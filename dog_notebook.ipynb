{
 "cells": [
  {
   "cell_type": "code",
   "execution_count": 1,
   "id": "44a3b08e",
   "metadata": {},
   "outputs": [],
   "source": [
    "# Enable auto reloading of notebook\n",
    "%load_ext autoreload\n",
    "%autoreload 2"
   ]
  },
  {
   "cell_type": "code",
   "execution_count": 2,
   "id": "7683efa5",
   "metadata": {},
   "outputs": [],
   "source": [
    "import random\n",
    "\n",
    "import torchvision.models as models\n",
    "\n",
    "from facenet_pytorch import MTCNN, InceptionResnetV1\n",
    "from sklearn.metrics import precision_recall_fscore_support\n",
    "from utils import *\n",
    "from dog_breed_classifier import *\n",
    "from networks import *"
   ]
  },
  {
   "cell_type": "code",
   "execution_count": 3,
   "id": "dde773ec",
   "metadata": {},
   "outputs": [
    {
     "name": "stdout",
     "output_type": "stream",
     "text": [
      "Using cuda:0\n"
     ]
    }
   ],
   "source": [
    "# Set device\n",
    "device = torch.device(\"cuda:0\" if torch.cuda.is_available() else \"cpu\")\n",
    "print(\"Using {}\".format(device))"
   ]
  },
  {
   "cell_type": "code",
   "execution_count": null,
   "id": "7ccfab10",
   "metadata": {},
   "outputs": [],
   "source": [
    "# Load dog dataset\n",
    "train_files, _, dog_targets_map = load_dog_dataset(\"data/dogImages/train\")\n",
    "valid_files, _, _ = load_dog_dataset(\"data/dogImages/valid\")\n",
    "test_files, _, _ = load_dog_dataset(\"data/dogImages/test\")\n",
    "\n",
    "# Load list of dog names\n",
    "dog_names = dog_targets_map.keys()\n",
    "\n",
    "# Print statistics about the dataset\n",
    "print(\"There are %d total dog categories.\" % len(dog_names))\n",
    "print(\n",
    "    \"There are %s total dog images.\\n\"\n",
    "    % len(np.hstack([train_files, valid_files, test_files]))\n",
    ")\n",
    "print(\"There are %d training dog images.\" % len(train_files))\n",
    "print(\"There are %d validation dog images.\" % len(valid_files))\n",
    "print(\"There are %d test dog images.\" % len(test_files))"
   ]
  },
  {
   "cell_type": "code",
   "execution_count": null,
   "id": "a6c29642",
   "metadata": {},
   "outputs": [],
   "source": [
    "# Load human dataset\n",
    "human_files = load_human_dataset(\"data/lfw\")\n",
    "random.shuffle(human_files)\n",
    "\n",
    "# Print statistics about the dataset\n",
    "print(\"There are %d total human images.\" % len(human_files))"
   ]
  },
  {
   "cell_type": "code",
   "execution_count": null,
   "id": "35026530",
   "metadata": {},
   "outputs": [],
   "source": [
    "# Haarcascade\n",
    "face_cascade = cv2.CascadeClassifier(\n",
    "    \"pretrained/haarcascades/haarcascade_frontalface_alt.xml\"\n",
    ")\n",
    "print(\n",
    "    \"Number of detected faces: \",\n",
    "    get_num_faces_haarcascade(str(human_files[0]), face_cascade),\n",
    ")\n",
    "visualize_faces_haarcascade(str(human_files[0]), face_cascade)"
   ]
  },
  {
   "cell_type": "code",
   "execution_count": null,
   "id": "681185b5",
   "metadata": {},
   "outputs": [],
   "source": [
    "# PyTorch\n",
    "mtcnn = MTCNN(image_size=250, keep_all=True, device=device)\n",
    "print(\"Number of detected faces: \", get_num_faces_mtcnn(str(human_files[0]), mtcnn))\n",
    "visualize_faces_mtcnn(str(human_files[0]), mtcnn)"
   ]
  },
  {
   "cell_type": "code",
   "execution_count": null,
   "id": "629c2ccf",
   "metadata": {},
   "outputs": [],
   "source": [
    "human_files_short = human_files[:100]\n",
    "dog_files_short = train_files[:100]\n",
    "\n",
    "\n",
    "def assess_human_detector(human_files, dog_files, get_num_faces):\n",
    "    num_true_positive = 0\n",
    "    y_true = [0] * len(human_files) + [1] * len(dog_files)\n",
    "    y_pred = []\n",
    "    for x in human_files:\n",
    "        next_pred = get_num_faces(x) > 0\n",
    "        y_pred.append(0) if next_pred else y_pred.append(1)\n",
    "        num_true_positive += 1 if next_pred else 0\n",
    "\n",
    "    num_false_positive = 0\n",
    "    for x in dog_files:\n",
    "        next_pred = get_num_faces(x) > 0\n",
    "        y_pred.append(0) if next_pred else y_pred.append(1)\n",
    "        num_false_positive += 1 if next_pred else 0\n",
    "\n",
    "    print(\n",
    "        \"Human faces correctly detected: {}/{}\".format(\n",
    "            num_true_positive, len(human_files)\n",
    "        )\n",
    "    )\n",
    "    print(\n",
    "        \"Dog faces wrongly detected as human: {}/{}\".format(\n",
    "            num_false_positive, len(dog_files)\n",
    "        )\n",
    "    )\n",
    "    precision, recall, fscore, _ = precision_recall_fscore_support(\n",
    "        y_true, y_pred, average=\"binary\", pos_label=0\n",
    "    )\n",
    "    print(\"Precision: {}\".format(precision))\n",
    "    print(\"Recall: {}\".format(recall))\n",
    "    print(\"Fscore: {}\".format(fscore))"
   ]
  },
  {
   "cell_type": "code",
   "execution_count": null,
   "id": "ffdf4f9c",
   "metadata": {},
   "outputs": [],
   "source": [
    "print(\"Using Haar Cascade\")\n",
    "assess_human_detector(\n",
    "    human_files_short,\n",
    "    dog_files_short,\n",
    "    lambda x: get_num_faces_haarcascade(str(x), face_cascade),\n",
    ")"
   ]
  },
  {
   "cell_type": "code",
   "execution_count": null,
   "id": "5b89ad45",
   "metadata": {},
   "outputs": [],
   "source": [
    "print(\"Using MTCNN\")\n",
    "assess_human_detector(\n",
    "    human_files_short, dog_files_short, lambda x: get_num_faces_mtcnn(str(x), mtcnn)\n",
    ")"
   ]
  },
  {
   "cell_type": "code",
   "execution_count": null,
   "id": "cb05d8ce",
   "metadata": {},
   "outputs": [],
   "source": [
    "def assess_dog_detector(human_files, dog_files, detector, device):\n",
    "    num_true_positive = 0\n",
    "    y_true = [1] * len(dog_files) + [0] * len(human_files)\n",
    "    y_pred = []\n",
    "    for x in dog_files:\n",
    "        next_pred = detect_dog_imagenet(str(x), detector, device)\n",
    "        y_pred.append(1) if next_pred else y_pred.append(0)\n",
    "        num_true_positive += 1 if next_pred else 0\n",
    "\n",
    "    num_false_positive = 0\n",
    "    for x in human_files:\n",
    "        next_pred = detect_dog_imagenet(str(x), detector, device)\n",
    "        y_pred.append(1) if next_pred else y_pred.append(0)\n",
    "        num_false_positive += 1 if next_pred else 0\n",
    "\n",
    "    print(\"Dogs correctly detected: {}/{}\".format(num_true_positive, len(dog_files)))\n",
    "    print(\n",
    "        \"Humans wrongly classified as dog: {}/{}\".format(\n",
    "            num_false_positive, len(human_files)\n",
    "        )\n",
    "    )\n",
    "    precision, recall, fscore, _ = precision_recall_fscore_support(\n",
    "        y_true, y_pred, average=\"binary\", pos_label=1\n",
    "    )\n",
    "    print(\"Precision: {}\".format(precision))\n",
    "    print(\"Recall: {}\".format(recall))\n",
    "    print(\"Fscore: {}\".format(fscore))"
   ]
  },
  {
   "cell_type": "code",
   "execution_count": null,
   "id": "96500971",
   "metadata": {},
   "outputs": [],
   "source": [
    "print(\"Using Resnet50\")\n",
    "resnet50 = models.resnet50(pretrained=True).to(device).eval()\n",
    "assess_dog_detector(human_files_short, dog_files_short, resnet50, device)"
   ]
  },
  {
   "cell_type": "code",
   "execution_count": 4,
   "id": "5af4246a",
   "metadata": {},
   "outputs": [
    {
     "name": "stdout",
     "output_type": "stream",
     "text": [
      "Using VGG16\n"
     ]
    },
    {
     "ename": "NameError",
     "evalue": "name 'assess_dog_detector' is not defined",
     "output_type": "error",
     "traceback": [
      "\u001b[0;31m---------------------------------------------------------------------------\u001b[0m",
      "\u001b[0;31mNameError\u001b[0m                                 Traceback (most recent call last)",
      "\u001b[0;32m/tmp/ipykernel_22782/2035401327.py\u001b[0m in \u001b[0;36m<module>\u001b[0;34m\u001b[0m\n\u001b[1;32m      1\u001b[0m \u001b[0mprint\u001b[0m\u001b[0;34m(\u001b[0m\u001b[0;34m\"Using VGG16\"\u001b[0m\u001b[0;34m)\u001b[0m\u001b[0;34m\u001b[0m\u001b[0;34m\u001b[0m\u001b[0m\n\u001b[1;32m      2\u001b[0m \u001b[0mvgg16\u001b[0m \u001b[0;34m=\u001b[0m \u001b[0mmodels\u001b[0m\u001b[0;34m.\u001b[0m\u001b[0mvgg16\u001b[0m\u001b[0;34m(\u001b[0m\u001b[0mpretrained\u001b[0m\u001b[0;34m=\u001b[0m\u001b[0;32mTrue\u001b[0m\u001b[0;34m)\u001b[0m\u001b[0;34m.\u001b[0m\u001b[0mto\u001b[0m\u001b[0;34m(\u001b[0m\u001b[0mdevice\u001b[0m\u001b[0;34m)\u001b[0m\u001b[0;34m.\u001b[0m\u001b[0meval\u001b[0m\u001b[0;34m(\u001b[0m\u001b[0;34m)\u001b[0m\u001b[0;34m\u001b[0m\u001b[0;34m\u001b[0m\u001b[0m\n\u001b[0;32m----> 3\u001b[0;31m \u001b[0massess_dog_detector\u001b[0m\u001b[0;34m(\u001b[0m\u001b[0mhuman_files_short\u001b[0m\u001b[0;34m,\u001b[0m \u001b[0mdog_files_short\u001b[0m\u001b[0;34m,\u001b[0m \u001b[0mvgg16\u001b[0m\u001b[0;34m,\u001b[0m \u001b[0mdevice\u001b[0m\u001b[0;34m)\u001b[0m\u001b[0;34m\u001b[0m\u001b[0;34m\u001b[0m\u001b[0m\n\u001b[0m",
      "\u001b[0;31mNameError\u001b[0m: name 'assess_dog_detector' is not defined"
     ]
    }
   ],
   "source": [
    "print(\"Using VGG16\")\n",
    "vgg16 = models.vgg16(pretrained=True).to(device).eval()\n",
    "assess_dog_detector(human_files_short, dog_files_short, vgg16, device)"
   ]
  },
  {
   "cell_type": "code",
   "execution_count": null,
   "id": "0d6efda2",
   "metadata": {},
   "outputs": [],
   "source": [
    "print(\"Using Inception V3\")\n",
    "inception_v3 = models.inception_v3(pretrained=True).to(device).eval()\n",
    "assess_dog_detector(human_files_short, dog_files_short, inception_v3, device)"
   ]
  },
  {
   "cell_type": "code",
   "execution_count": null,
   "id": "e133dcb0",
   "metadata": {},
   "outputs": [],
   "source": [
    "simple_net = SimpleNet().to(device)\n",
    "loss_fn = nn.CrossEntropyLoss()\n",
    "optimizer = torch.optim.Adam(simple_net.parameters(), lr=3e-4)"
   ]
  },
  {
   "cell_type": "code",
   "execution_count": null,
   "id": "f3dc66d7",
   "metadata": {},
   "outputs": [],
   "source": [
    "print(simple_net)"
   ]
  },
  {
   "cell_type": "code",
   "execution_count": null,
   "id": "89353b2f",
   "metadata": {},
   "outputs": [],
   "source": [
    "dog_breed_classifier_pipeline = DogBreedClassifierPipeline(\n",
    "    data_path=\"data/dogImages\", model=simple_net\n",
    ")"
   ]
  },
  {
   "cell_type": "code",
   "execution_count": null,
   "id": "6eba42b8",
   "metadata": {},
   "outputs": [],
   "source": [
    "# dog_breed_classifier_pipeline.train(num_epochs=10, loss_fn=loss_fn, optimizer=optimizer, device=device, name=\"scratch\")"
   ]
  },
  {
   "cell_type": "code",
   "execution_count": null,
   "id": "b48325a1",
   "metadata": {},
   "outputs": [],
   "source": [
    "dog_breed_classifier_pipeline.load(\n",
    "    \"pretrained/models/model_2021_10_09_230956979794_03339_best.pt\"\n",
    ")"
   ]
  },
  {
   "cell_type": "code",
   "execution_count": null,
   "id": "c8df22f1",
   "metadata": {},
   "outputs": [],
   "source": [
    "dog_breed_classifier_pipeline.evaluate(device)"
   ]
  },
  {
   "cell_type": "code",
   "execution_count": 5,
   "id": "a1eda09c",
   "metadata": {},
   "outputs": [],
   "source": [
    "vgg16_dogbreed_net = VGGTransferLearningNet(vgg16).to(device)\n",
    "loss_fn = nn.CrossEntropyLoss()\n",
    "optimizer = torch.optim.Adam(vgg16_dogbreed_net.parameters(), lr=3e-4)"
   ]
  },
  {
   "cell_type": "code",
   "execution_count": 6,
   "id": "a4dfc1c9",
   "metadata": {},
   "outputs": [],
   "source": [
    "dog_breed_classifier_pipeline = DogBreedClassifierPipeline(\n",
    "    data_path=\"data/dogImages\", model=vgg16_dogbreed_net\n",
    ")"
   ]
  },
  {
   "cell_type": "code",
   "execution_count": 7,
   "id": "3d4300fb",
   "metadata": {},
   "outputs": [
    {
     "ename": "RuntimeError",
     "evalue": "CUDA out of memory. Tried to allocate 392.00 MiB (GPU 0; 3.82 GiB total capacity; 2.24 GiB already allocated; 76.88 MiB free; 2.39 GiB reserved in total by PyTorch)",
     "output_type": "error",
     "traceback": [
      "\u001b[0;31m---------------------------------------------------------------------------\u001b[0m",
      "\u001b[0;31mRuntimeError\u001b[0m                              Traceback (most recent call last)",
      "\u001b[0;32m/tmp/ipykernel_22782/1543234434.py\u001b[0m in \u001b[0;36m<module>\u001b[0;34m\u001b[0m\n\u001b[0;32m----> 1\u001b[0;31m \u001b[0mdog_breed_classifier_pipeline\u001b[0m\u001b[0;34m.\u001b[0m\u001b[0mtrain\u001b[0m\u001b[0;34m(\u001b[0m\u001b[0mnum_epochs\u001b[0m\u001b[0;34m=\u001b[0m\u001b[0;36m10\u001b[0m\u001b[0;34m,\u001b[0m \u001b[0mloss_fn\u001b[0m\u001b[0;34m=\u001b[0m\u001b[0mloss_fn\u001b[0m\u001b[0;34m,\u001b[0m \u001b[0moptimizer\u001b[0m\u001b[0;34m=\u001b[0m\u001b[0moptimizer\u001b[0m\u001b[0;34m,\u001b[0m \u001b[0mdevice\u001b[0m\u001b[0;34m=\u001b[0m\u001b[0mdevice\u001b[0m\u001b[0;34m)\u001b[0m\u001b[0;34m\u001b[0m\u001b[0;34m\u001b[0m\u001b[0m\n\u001b[0m",
      "\u001b[0;32m~/git/udacity-dog-breed-classifier/dog_breed_classifier.py\u001b[0m in \u001b[0;36mtrain\u001b[0;34m(self, num_epochs, loss_fn, optimizer, device)\u001b[0m\n\u001b[1;32m    118\u001b[0m \u001b[0;34m\u001b[0m\u001b[0m\n\u001b[1;32m    119\u001b[0m                 \u001b[0;31m# Optimize\u001b[0m\u001b[0;34m\u001b[0m\u001b[0;34m\u001b[0m\u001b[0;34m\u001b[0m\u001b[0m\n\u001b[0;32m--> 120\u001b[0;31m                 \u001b[0moptimizer\u001b[0m\u001b[0;34m.\u001b[0m\u001b[0mstep\u001b[0m\u001b[0;34m(\u001b[0m\u001b[0;34m)\u001b[0m\u001b[0;34m\u001b[0m\u001b[0;34m\u001b[0m\u001b[0m\n\u001b[0m\u001b[1;32m    121\u001b[0m \u001b[0;34m\u001b[0m\u001b[0m\n\u001b[1;32m    122\u001b[0m                 \u001b[0mn_iter\u001b[0m \u001b[0;34m=\u001b[0m \u001b[0mepoch\u001b[0m \u001b[0;34m*\u001b[0m \u001b[0mlen\u001b[0m\u001b[0;34m(\u001b[0m\u001b[0mself\u001b[0m\u001b[0;34m.\u001b[0m\u001b[0mtrain_loader\u001b[0m\u001b[0;34m)\u001b[0m \u001b[0;34m+\u001b[0m \u001b[0mi\u001b[0m\u001b[0;34m\u001b[0m\u001b[0;34m\u001b[0m\u001b[0m\n",
      "\u001b[0;32m~/.casio/miniconda/envs/udacity-dogenv/lib/python3.7/site-packages/torch/optim/optimizer.py\u001b[0m in \u001b[0;36mwrapper\u001b[0;34m(*args, **kwargs)\u001b[0m\n\u001b[1;32m     86\u001b[0m                 \u001b[0mprofile_name\u001b[0m \u001b[0;34m=\u001b[0m \u001b[0;34m\"Optimizer.step#{}.step\"\u001b[0m\u001b[0;34m.\u001b[0m\u001b[0mformat\u001b[0m\u001b[0;34m(\u001b[0m\u001b[0mobj\u001b[0m\u001b[0;34m.\u001b[0m\u001b[0m__class__\u001b[0m\u001b[0;34m.\u001b[0m\u001b[0m__name__\u001b[0m\u001b[0;34m)\u001b[0m\u001b[0;34m\u001b[0m\u001b[0;34m\u001b[0m\u001b[0m\n\u001b[1;32m     87\u001b[0m                 \u001b[0;32mwith\u001b[0m \u001b[0mtorch\u001b[0m\u001b[0;34m.\u001b[0m\u001b[0mautograd\u001b[0m\u001b[0;34m.\u001b[0m\u001b[0mprofiler\u001b[0m\u001b[0;34m.\u001b[0m\u001b[0mrecord_function\u001b[0m\u001b[0;34m(\u001b[0m\u001b[0mprofile_name\u001b[0m\u001b[0;34m)\u001b[0m\u001b[0;34m:\u001b[0m\u001b[0;34m\u001b[0m\u001b[0;34m\u001b[0m\u001b[0m\n\u001b[0;32m---> 88\u001b[0;31m                     \u001b[0;32mreturn\u001b[0m \u001b[0mfunc\u001b[0m\u001b[0;34m(\u001b[0m\u001b[0;34m*\u001b[0m\u001b[0margs\u001b[0m\u001b[0;34m,\u001b[0m \u001b[0;34m**\u001b[0m\u001b[0mkwargs\u001b[0m\u001b[0;34m)\u001b[0m\u001b[0;34m\u001b[0m\u001b[0;34m\u001b[0m\u001b[0m\n\u001b[0m\u001b[1;32m     89\u001b[0m             \u001b[0;32mreturn\u001b[0m \u001b[0mwrapper\u001b[0m\u001b[0;34m\u001b[0m\u001b[0;34m\u001b[0m\u001b[0m\n\u001b[1;32m     90\u001b[0m \u001b[0;34m\u001b[0m\u001b[0m\n",
      "\u001b[0;32m~/.casio/miniconda/envs/udacity-dogenv/lib/python3.7/site-packages/torch/autograd/grad_mode.py\u001b[0m in \u001b[0;36mdecorate_context\u001b[0;34m(*args, **kwargs)\u001b[0m\n\u001b[1;32m     26\u001b[0m         \u001b[0;32mdef\u001b[0m \u001b[0mdecorate_context\u001b[0m\u001b[0;34m(\u001b[0m\u001b[0;34m*\u001b[0m\u001b[0margs\u001b[0m\u001b[0;34m,\u001b[0m \u001b[0;34m**\u001b[0m\u001b[0mkwargs\u001b[0m\u001b[0;34m)\u001b[0m\u001b[0;34m:\u001b[0m\u001b[0;34m\u001b[0m\u001b[0;34m\u001b[0m\u001b[0m\n\u001b[1;32m     27\u001b[0m             \u001b[0;32mwith\u001b[0m \u001b[0mself\u001b[0m\u001b[0;34m.\u001b[0m\u001b[0m__class__\u001b[0m\u001b[0;34m(\u001b[0m\u001b[0;34m)\u001b[0m\u001b[0;34m:\u001b[0m\u001b[0;34m\u001b[0m\u001b[0;34m\u001b[0m\u001b[0m\n\u001b[0;32m---> 28\u001b[0;31m                 \u001b[0;32mreturn\u001b[0m \u001b[0mfunc\u001b[0m\u001b[0;34m(\u001b[0m\u001b[0;34m*\u001b[0m\u001b[0margs\u001b[0m\u001b[0;34m,\u001b[0m \u001b[0;34m**\u001b[0m\u001b[0mkwargs\u001b[0m\u001b[0;34m)\u001b[0m\u001b[0;34m\u001b[0m\u001b[0;34m\u001b[0m\u001b[0m\n\u001b[0m\u001b[1;32m     29\u001b[0m         \u001b[0;32mreturn\u001b[0m \u001b[0mcast\u001b[0m\u001b[0;34m(\u001b[0m\u001b[0mF\u001b[0m\u001b[0;34m,\u001b[0m \u001b[0mdecorate_context\u001b[0m\u001b[0;34m)\u001b[0m\u001b[0;34m\u001b[0m\u001b[0;34m\u001b[0m\u001b[0m\n\u001b[1;32m     30\u001b[0m \u001b[0;34m\u001b[0m\u001b[0m\n",
      "\u001b[0;32m~/.casio/miniconda/envs/udacity-dogenv/lib/python3.7/site-packages/torch/optim/adam.py\u001b[0m in \u001b[0;36mstep\u001b[0;34m(self, closure)\u001b[0m\n\u001b[1;32m    116\u001b[0m                    \u001b[0mlr\u001b[0m\u001b[0;34m=\u001b[0m\u001b[0mgroup\u001b[0m\u001b[0;34m[\u001b[0m\u001b[0;34m'lr'\u001b[0m\u001b[0;34m]\u001b[0m\u001b[0;34m,\u001b[0m\u001b[0;34m\u001b[0m\u001b[0;34m\u001b[0m\u001b[0m\n\u001b[1;32m    117\u001b[0m                    \u001b[0mweight_decay\u001b[0m\u001b[0;34m=\u001b[0m\u001b[0mgroup\u001b[0m\u001b[0;34m[\u001b[0m\u001b[0;34m'weight_decay'\u001b[0m\u001b[0;34m]\u001b[0m\u001b[0;34m,\u001b[0m\u001b[0;34m\u001b[0m\u001b[0;34m\u001b[0m\u001b[0m\n\u001b[0;32m--> 118\u001b[0;31m                    eps=group['eps'])\n\u001b[0m\u001b[1;32m    119\u001b[0m         \u001b[0;32mreturn\u001b[0m \u001b[0mloss\u001b[0m\u001b[0;34m\u001b[0m\u001b[0;34m\u001b[0m\u001b[0m\n",
      "\u001b[0;32m~/.casio/miniconda/envs/udacity-dogenv/lib/python3.7/site-packages/torch/optim/_functional.py\u001b[0m in \u001b[0;36madam\u001b[0;34m(params, grads, exp_avgs, exp_avg_sqs, max_exp_avg_sqs, state_steps, amsgrad, beta1, beta2, lr, weight_decay, eps)\u001b[0m\n\u001b[1;32m     92\u001b[0m             \u001b[0mdenom\u001b[0m \u001b[0;34m=\u001b[0m \u001b[0;34m(\u001b[0m\u001b[0mmax_exp_avg_sqs\u001b[0m\u001b[0;34m[\u001b[0m\u001b[0mi\u001b[0m\u001b[0;34m]\u001b[0m\u001b[0;34m.\u001b[0m\u001b[0msqrt\u001b[0m\u001b[0;34m(\u001b[0m\u001b[0;34m)\u001b[0m \u001b[0;34m/\u001b[0m \u001b[0mmath\u001b[0m\u001b[0;34m.\u001b[0m\u001b[0msqrt\u001b[0m\u001b[0;34m(\u001b[0m\u001b[0mbias_correction2\u001b[0m\u001b[0;34m)\u001b[0m\u001b[0;34m)\u001b[0m\u001b[0;34m.\u001b[0m\u001b[0madd_\u001b[0m\u001b[0;34m(\u001b[0m\u001b[0meps\u001b[0m\u001b[0;34m)\u001b[0m\u001b[0;34m\u001b[0m\u001b[0;34m\u001b[0m\u001b[0m\n\u001b[1;32m     93\u001b[0m         \u001b[0;32melse\u001b[0m\u001b[0;34m:\u001b[0m\u001b[0;34m\u001b[0m\u001b[0;34m\u001b[0m\u001b[0m\n\u001b[0;32m---> 94\u001b[0;31m             \u001b[0mdenom\u001b[0m \u001b[0;34m=\u001b[0m \u001b[0;34m(\u001b[0m\u001b[0mexp_avg_sq\u001b[0m\u001b[0;34m.\u001b[0m\u001b[0msqrt\u001b[0m\u001b[0;34m(\u001b[0m\u001b[0;34m)\u001b[0m \u001b[0;34m/\u001b[0m \u001b[0mmath\u001b[0m\u001b[0;34m.\u001b[0m\u001b[0msqrt\u001b[0m\u001b[0;34m(\u001b[0m\u001b[0mbias_correction2\u001b[0m\u001b[0;34m)\u001b[0m\u001b[0;34m)\u001b[0m\u001b[0;34m.\u001b[0m\u001b[0madd_\u001b[0m\u001b[0;34m(\u001b[0m\u001b[0meps\u001b[0m\u001b[0;34m)\u001b[0m\u001b[0;34m\u001b[0m\u001b[0;34m\u001b[0m\u001b[0m\n\u001b[0m\u001b[1;32m     95\u001b[0m \u001b[0;34m\u001b[0m\u001b[0m\n\u001b[1;32m     96\u001b[0m         \u001b[0mstep_size\u001b[0m \u001b[0;34m=\u001b[0m \u001b[0mlr\u001b[0m \u001b[0;34m/\u001b[0m \u001b[0mbias_correction1\u001b[0m\u001b[0;34m\u001b[0m\u001b[0;34m\u001b[0m\u001b[0m\n",
      "\u001b[0;31mRuntimeError\u001b[0m: CUDA out of memory. Tried to allocate 392.00 MiB (GPU 0; 3.82 GiB total capacity; 2.24 GiB already allocated; 76.88 MiB free; 2.39 GiB reserved in total by PyTorch)"
     ]
    }
   ],
   "source": [
    "# dog_breed_classifier_pipeline.train(num_epochs=10, loss_fn=loss_fn, optimizer=optimizer, device=device, name=\"vgg16_tf\")"
   ]
  },
  {
   "cell_type": "code",
   "execution_count": null,
   "id": "767dd99d",
   "metadata": {},
   "outputs": [],
   "source": []
  }
 ],
 "metadata": {
  "kernelspec": {
   "display_name": "Python 3 (ipykernel)",
   "language": "python",
   "name": "python3"
  },
  "language_info": {
   "codemirror_mode": {
    "name": "ipython",
    "version": 3
   },
   "file_extension": ".py",
   "mimetype": "text/x-python",
   "name": "python",
   "nbconvert_exporter": "python",
   "pygments_lexer": "ipython3",
   "version": "3.7.11"
  }
 },
 "nbformat": 4,
 "nbformat_minor": 5
}
